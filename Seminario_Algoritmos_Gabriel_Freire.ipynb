{
  "nbformat": 4,
  "nbformat_minor": 0,
  "metadata": {
    "colab": {
      "name": "Seminario - Algoritmos - Gabriel Freire.ipynb",
      "provenance": [],
      "collapsed_sections": [],
      "include_colab_link": true
    },
    "kernelspec": {
      "name": "python3",
      "display_name": "Python 3"
    }
  },
  "cells": [
    {
      "cell_type": "markdown",
      "metadata": {
        "id": "view-in-github",
        "colab_type": "text"
      },
      "source": [
        "<a href=\"https://colab.research.google.com/github/gabrielfreire08/03MIAR-Algoritmos-de-Optimizacion-/blob/main/Seminario_Algoritmos_Gabriel_Freire.ipynb\" target=\"_parent\"><img src=\"https://colab.research.google.com/assets/colab-badge.svg\" alt=\"Open In Colab\"/></a>"
      ]
    },
    {
      "cell_type": "markdown",
      "metadata": {
        "id": "hVbXYX-RfPWh"
      },
      "source": [
        "# ___Algoritmos de optimización - Seminario___\n",
        "**Nombre y Apellidos:** Gabriel David Freire Luna   <br>\n",
        "Url: https://github.com/gabrielfreire08/03MIAR-Algoritmos-de-Optimizacion-/blob/main/Seminario_Algoritmos_Gabriel_Freire.ipynb<br>\n",
        "**Problema:**\n",
        "\n",
        "**>3. Combinar cifras y operaciones**\n",
        "\n",
        "**Descripción del problema:**(copiar enunciado)\n",
        "\n",
        "• El problema consiste en analizar el siguiente problema y diseñar un algoritmo que lo resuelva.\n",
        "• Disponemos de las 9 cifras del 1 al 9 (excluimos el cero) y de los 4 signos básicos de las operaciones fundamentales: suma(+), resta(-), multiplicación(*) y división(/)\n",
        "• Debemos combinarlos alternativamente sin repetir ninguno de ellos para obtener una cantidad dada. Un ejemplo sería para obtener el 4:\n",
        "4+2-6/3 * 1 = 4\n",
        "\n",
        "(*) La respuesta es obligatoria                                       "
      ]
    },
    {
      "cell_type": "markdown",
      "metadata": {
        "id": "3_-exlrTgLd-"
      },
      "source": [
        "# **(*)¿Cuantas posibilidades hay sin tener en cuenta las restricciones?<br>**\n",
        "\n"
      ]
    },
    {
      "cell_type": "markdown",
      "metadata": {
        "id": "WfCUqJyKhPcw"
      },
      "source": [
        "**Respuesta:** Al no tener restricciones, podemos realizar *INFINTAS* posibilidades de combinaciones de expresiones aritméticas para poder encontrar un número entero dado. Por ejemplo, si quiero encontrar una expresión para el número 100, una posibilidad sería \"101/1*1-1\". Lo que hace interesante este problema son las restricciones impuestas en el enunciado."
      ]
    },
    {
      "cell_type": "markdown",
      "metadata": {
        "id": "UvGk-xklhW0A"
      },
      "source": [
        "# **¿Cuantas posibilidades hay teniendo en cuenta todas las restricciones.**"
      ]
    },
    {
      "cell_type": "markdown",
      "metadata": {
        "id": "IbyZIceHjz2q"
      },
      "source": [
        "**Respuesta:** Enumerando las restricciones que tenemos:\n",
        "1. La expresión aritmética deberá estar formada por 5 cifras y 4 operadores aritméticos, ninguno se puede repetir.\n",
        "2. Solo podemos usar números naturales del rango de [1,2, ..., 9] para utilizar en los 5 espacios disponibles de cifras dentro de nuestra expresión aritmética.\n",
        "3. Debemos usar los 4 operadores aritméticos {+, -, *, /} en cualquier orden dentro de nuestra expresión aritmética.\n",
        "4. La expresión tendrá el siguiente formato: # _ # _ # _ # _ #, en donde # representa la ubicación de las cifras sin repetirse y los _ representan la ubicación de los operadores sin repetirse.\n",
        "5. La respuesta (output) de la función a crear deberán ser enteros.\n",
        "\n",
        "Tomando esto en consideración vemos existen: 9! = 362.880 posibilidades, pero de las cuales sólo 90.000 posibles soluciones son enteras (aplicando fuerza bruta).\n",
        "\n",
        "Cabe recalcar que se esta combinación de 5 dígitos y 4 operadores, sin repetirese, sólo pueden dar posibles soluciones de número enteros en el rango de [-69, 70], sin excepción, es decir, todos los número enteros en el rango mencionado."
      ]
    },
    {
      "cell_type": "markdown",
      "metadata": {
        "id": "dzynfVJahHoY"
      },
      "source": [
        "# **Modelo para el espacio de soluciones<br>**\n",
        "# __(*) ¿Cual es la estructura de datos que mejor se adapta al problema? Argumentalo.(Es posible que hayas elegido una al principio y veas la necesidad de cambiar, arguentalo)__\n"
      ]
    },
    {
      "cell_type": "markdown",
      "metadata": {
        "id": "xFIJrOwKi2Ti"
      },
      "source": [
        "**Respuesta:** Se utilizaron combinación de lista y tuplas. Mayor cantidad de variables y parte de la progrmación fue realizada con LISTAS. Recordemos que al usar itertools.permutations, nos va a devolver todas las combinaciones posibles que necesitemos como TUPLAS (no modificables). Adicionalmente, al ser un algoritmo de búsqueda, debemos de ir \"creando\" la solución, es decir, ir armando la \"expresión aritmética\", la cual puede que empecemos por un camino, que luego tengamos que podar (camino no viable) y por ende modificar esa variable donde estamos contruyendo la \"expresión aritmética\". Esto solo es posible con las listas.\n",
        "\n",
        "Finalmente, se utilizó una estrura de datos de tipo árbol, el cual se conformó por una cambinación de nodos, que parten desde una propuesta inicial de orden de los operadores aritméticos dada y sobre esa se exploran otros nodos con posibles combinaciones de números. En caso de que esa primera propuesta de orden de operadores aritméticos no conlleve a una solución, se elimina esa opción de todas las posibles soluciones, es decir podamos esa rama. Para el caso del problema, no vi necesario otra estrucutra de datos ya que, al ser un algoritmo de búsqueda, vamos a ir por un camino explorando y se vemos que no conlleva a una solución, cortamos ese camino para seguir probrando con otro."
      ]
    },
    {
      "cell_type": "markdown",
      "metadata": {
        "id": "7Z9U2W7bi-XS"
      },
      "source": [
        "# **Según el modelo para el espacio de soluciones<br>**\n",
        "# __(*)¿Cual es la función objetivo?__"
      ]
    },
    {
      "cell_type": "markdown",
      "metadata": {
        "id": "hBalWLM7j1_d"
      },
      "source": [
        "**Respuesta:** Para este caso de búsqueda, se require que un target value sea igual a una expresión, por lo cual se puede obtener una f(x) - x = 0, donde x es el valor del target y f(x) la expresión aritmética que satisface ese target value. En conclusión, no existe una función de búsqueda, pero si una función a \"comprobar\" como se lo menciona."
      ]
    },
    {
      "cell_type": "markdown",
      "metadata": {
        "id": "d0kWmp-0ijEQ"
      },
      "source": [
        "# __(*)¿Es un problema de maximización o minimización?__"
      ]
    },
    {
      "cell_type": "markdown",
      "metadata": {
        "id": "JmNowWYiikQu"
      },
      "source": [
        "**Respuesta:** Es el problema de búsqueda. No se desea minimizar ni maximizar alguna función objetivo."
      ]
    },
    {
      "cell_type": "markdown",
      "metadata": {
        "id": "rlnTYgY1j6I2"
      },
      "source": [
        "# **Diseña un algoritmo para resolver el problema por fuerza bruta**"
      ]
    },
    {
      "cell_type": "markdown",
      "metadata": {
        "id": "70rDgxYXkC8r"
      },
      "source": [
        "**Respuesta:**"
      ]
    },
    {
      "cell_type": "code",
      "metadata": {
        "id": "CJb5sQ0qkENy",
        "colab": {
          "base_uri": "https://localhost:8080/"
        },
        "outputId": "26b7afec-76c5-49fc-ce81-62b2818e6548"
      },
      "source": [
        "from itertools import permutations\n",
        "import random\n",
        "import pandas as pd\n",
        "import time\n",
        "\n",
        "#Calculamos el tiempo de ejecución del algoritmo\n",
        "start_time = time.time()\n",
        "\n",
        "numbers   = (\"1\",\"2\", \"3\", \"4\", \"5\", \"6\", \"7\", \"8\", \"9\")\n",
        "operators = (\"+\",\"-\",\"*\",\"/\")\n",
        "# count = 0\n",
        "formulas = []\n",
        "valores = []\n",
        "\n",
        "#Ingresamos el valor objetivo\n",
        "#target = int(input(\"Ingrese valor a encontrar expresión aritmética: \"))\n",
        "target = 0\n",
        "\n",
        "for values in permutations(numbers,5):\n",
        "    for oper in permutations(operators,4):\n",
        "        formula = \"\".join(o+v for o,v in zip([\"\"]+list(oper),values))\n",
        "        # count+=1\n",
        "        formulas.append(formula)\n",
        "        valores.append(eval(formula))\n",
        "\n",
        "formulas = pd.DataFrame(formulas, columns = [\"Expresión\"])\n",
        "valores = pd.DataFrame(valores, columns = [\"Resultado\"])\n",
        "resultados = pd.concat([formulas, valores], axis = 1)\n",
        "# display(resultados)\n",
        "\n",
        "#Si queremos sólo un resultado\n",
        "expresion = resultados[resultados[\"Resultado\"] == target][\"Expresión\"].iloc[1]\n",
        "\n",
        "#Si queremos todos los resultados\n",
        "#expresion = resultados[resultados[\"Resultado\"] == target][\"Expresión\"]\n",
        "\n",
        "print(\"El valor a encontrar la expresión aritmétcia es: {}\".format(target))\n",
        "print(\"La expresión arimética es: {}\".format(expresion))\n",
        "print(\"--- %s seconds ---\" % (time.time() - start_time))\n",
        "#Siempre me va a dar el primer valor de posibles soluciones de expresiones\n",
        "#aritméticas."
      ],
      "execution_count": 16,
      "outputs": [
        {
          "output_type": "stream",
          "text": [
            "El valor a encontrar la expresión aritmétcia es: 0\n",
            "La expresión arimética es: 1-2/3*9+5\n",
            "--- 3.2382633686065674 seconds ---\n"
          ],
          "name": "stdout"
        }
      ]
    },
    {
      "cell_type": "markdown",
      "metadata": {
        "id": "tgrnsC2nkFa8"
      },
      "source": [
        "# __Calcula la complejidad del algoritmo por fuerza bruta__"
      ]
    },
    {
      "cell_type": "markdown",
      "metadata": {
        "id": "9eUd3xwckP68"
      },
      "source": [
        "**Respuesta:** La complejidad de este algoritmo es O(n!), donde n = 9, que sería los 9 parámetros a encontrar. Recordemos que tenemos 9 especios representados de la siguiente manera: _  _  _  _  _  _  _  _  _, donde deberán entrar 5 números de un listado de 9 posibles sin repetirse, y 4 operadores, de un listado de 4 posibles sin repetirse. Es decir que tendría la siguiente cantidad de posiblidades: 9  4  8  3  7  2  6  1  5 (9 posibilidades en a primera casilla, 4 en la segunda, 8 en la tercera,...), lo que nos da 9! = 362.880 posibilidades."
      ]
    },
    {
      "cell_type": "markdown",
      "metadata": {
        "id": "txbrmLmskReM"
      },
      "source": [
        "# __(*)Diseña un algoritmo que mejore la complejidad del algortimo por fuerza bruta. Argumenta porque crees que mejora el algoritmo por fuerza bruta__"
      ]
    },
    {
      "cell_type": "markdown",
      "metadata": {
        "id": "hLrVwt5QkZPD"
      },
      "source": [
        "**Respuesta:**"
      ]
    },
    {
      "cell_type": "code",
      "metadata": {
        "id": "zGN2XoADhcK6"
      },
      "source": [
        "\"\"\"\n",
        "El algorimto creado se basa en el método de ramificación y poda. Se escoge \n",
        "aleatoriamente una opción de las 24 posibles combinaciones de operadores \n",
        "aritméticos e intenta buscar los números que satisfagan la expresión aritmetica \n",
        "para encontrar el valor target. En caso de que con esa combinación de operadores \n",
        "no encuentre la expresión que evaluada da el valor target, intentará con otra \n",
        "combinación de operadores, habiando guardado la rama que no debe de tomar ota \n",
        "vez.\n",
        "\"\"\"\n",
        "\n",
        "def problema3(target):\n",
        "    numbers   = [\"1\",\"2\", \"3\", \"4\", \"5\", \"6\", \"7\", \"8\", \"9\"]\n",
        "    operators = [\"+\",\"-\",\"*\",\"/\"]\n",
        "    sel_oper = ()\n",
        "    sel_num = ()\n",
        "    found = False\n",
        "    \n",
        "    #Generamos un listado de las 24 posibilidades de posibles permutaciones de los\n",
        "    #4 operadores. La transformamos a lista para poder escoger sobre ella.\n",
        "    pos_oper = permutations(operators,4)\n",
        "    pos_oper = list(pos_oper)\n",
        "    \n",
        "    #Generamos un listado con las 15120 posibilidades de posibles permutaciones de los\n",
        "    #5 números, de un listado de 9 números. La transformamos a lista para poder escoger sobre\n",
        "    #ella\n",
        "    pos_num = permutations(numbers,5)\n",
        "    pos_num = list(pos_num)\n",
        "    \n",
        "    #Obtemos el indice de los operadores * y /, ya que estos tienen prioridad a la hora de \n",
        "    #resolver el problema. Si estos operadores están juntos. \n",
        "    \n",
        "    oper_to_use = [n for n in pos_oper if n != sel_oper]\n",
        "    \n",
        "    for i in range(len(pos_oper)):\n",
        "        if found == False: \n",
        "            #Escogemos una de las 24 opciones de combinaciones de operadores\n",
        "            sel_oper = random.choice(oper_to_use)\n",
        "            #sel_oper = (\"/\", \"+\", \"*\", \"-\") \n",
        "            #Creamos una lista con los opeadores que no hemos usado para ir iterando sobre ellos\n",
        "            oper_to_use = [n for n in oper_to_use if n != sel_oper]\n",
        "            \n",
        "            #Si con un combinacón de opreadores no puede encontrar la expresión, deberá volver\n",
        "            #a iterar sobre todos los números\n",
        "            num_to_use = pos_num\n",
        "            for j in range(len(pos_num)):\n",
        "                \n",
        "                if found == False:            \n",
        "                    #Escogemos una de las 15120 opciones de combinaciones de operadores\n",
        "                    sel_num = random.choice(num_to_use)\n",
        "                    #sel_num = (\"6\", \"7\", \"5\", \"3\", \"1\")\n",
        "                    #Creamos una lista con las combinaciones de operadores usados, para tener un criterio de parada\n",
        "                    num_to_use = [n for n in num_to_use if n != sel_num]\n",
        "                    \n",
        "                    #Creamos la expresión aritmética\n",
        "                    formula = \"\".join(o+v for o,v in zip([\"\"]+list(sel_oper),list(sel_num)))\n",
        "                    \n",
        "                    #si o1 = * y o2 = / entonces tendré que realizar la operación d1 o1 d2 o2\n",
        "                    #y evaluarla. Si por otro lado, la * y / no estan juntos como el caso de o1 = * y o4 = *,\n",
        "                    #tendré que realizar la operación d1 o1 d2 y la operación d4 o4 d5.\n",
        "                    find_mul_index = formula.index(\"*\")\n",
        "                    find_div_index = formula.index(\"/\")\n",
        "            \n",
        "                    #Encontramos desde donde tenemos que coger la \"formula\" para evaluar\n",
        "                    start = min(find_mul_index,find_div_index)-1\n",
        "                    #Encontramos hasta donde tenemos que coger la \"fórmula\" para evaluar\n",
        "                    end = max(find_mul_index,find_div_index)+2\n",
        "                    \n",
        "                    #Si el valor absoluto de la diferencia de ubicaciones de la * y la / es igual a 2,\n",
        "                    #significa que están juntos.\n",
        "                    if abs(find_mul_index-find_div_index) == 2:\n",
        "                        #Obtemos esa partición de la fórmula\n",
        "                        r1 = formula[start:end]\n",
        "                        #Obtenemos el resultado de la evaluación\n",
        "                        result = eval(r1)\n",
        "                        \n",
        "                        #Si no estamos al inicio de la fórmula, se realizarán las siguientes operaciones\n",
        "                        if start == 5:\n",
        "                            #Eliminamos de la lista original los 3 dígitos utilizados hasta el momento\n",
        "                            unused_num = [n for n in numbers if n != formula[start]]\n",
        "                            unused_num = [n for n in unused_num if n != formula[start+2]]\n",
        "                            unused_num = [n for n in unused_num if n != formula[end-1]]\n",
        "                            \n",
        "                            for val in permutations(unused_num,2):\n",
        "                                if eval(\"\".join(val[0]+\"+\"+val[1])) == target + result:\n",
        "                                    return(\"\".join(val[0]+\"+\"+val[1])+\"-\"+r1)\n",
        "                                    found = True\n",
        "                                    break\n",
        "                                elif eval(\"\".join(val[0]+\"-\"+val[1])) == target - result:\n",
        "                                    return(\"\".join(val[0]+\"-\"+val[1])+\"+\"+r1)\n",
        "                                    found = True\n",
        "                                    break\n",
        "                        \n",
        "                        elif start == 2:\n",
        "                            #Eliminamos de la lista original los 3 dígitos utilizados hasta el momento\n",
        "                            unused_num = [n for n in numbers if n != formula[start]]\n",
        "                            unused_num = [n for n in unused_num if n != formula[start+2]]\n",
        "                            unused_num = [n for n in unused_num if n != formula[end-1]]\n",
        "                            \n",
        "                            for val in permutations(unused_num,2):\n",
        "                                if eval(\"\".join(val[0]+\"-\"+val[1])) == target - result:\n",
        "                                    return(\"\".join(val[0]+\"+\"+r1+\"-\"+val[1]))\n",
        "                                    found = True\n",
        "                                    break\n",
        "                                elif eval(\"\".join(val[0]+\"+\"+val[1])) == target + result:\n",
        "                                    return(\"\".join(val[0]+\"-\"+r1+\"+\"+val[1]))\n",
        "                                    found = True\n",
        "                                    break\n",
        "                            \n",
        "                        else:\n",
        "                            #Eliminamos de la lista original los 3 dígitos utilizados hasta el momento\n",
        "                            unused_num = [n for n in numbers if n != formula[start]]\n",
        "                            unused_num = [n for n in unused_num if n != formula[start+2]]\n",
        "                            unused_num = [n for n in unused_num if n != formula[end-1]]\n",
        "                            \n",
        "                            for val in permutations(unused_num,2):\n",
        "                                if eval(\"\".join(\"-\"+val[0]+\"+\"+val[1])) == target - result:\n",
        "                                    return(r1+\"\".join(\"-\"+val[0]+\"+\"+val[1]))\n",
        "                                    found = True\n",
        "                                    break\n",
        "                                elif eval(\"\".join(val[0]+\"-\"+val[1])) == target - result:\n",
        "                                    return(r1+\"\".join(\"+\"+val[0]+\"-\"+val[1]))\n",
        "                                    found = True\n",
        "                                    break\n",
        "                    #En este caso si los operadores de * y / no están juntos, significa\n",
        "                    #que tenemos que realizar 2 operaciones r1 y r2 por separadas, y estas\n",
        "                    #operaciones estarán unidas por los signos de + y -\n",
        "                    else:\n",
        "                        index_1 = min(find_div_index, find_mul_index)\n",
        "                        index_2 = max(find_div_index, find_mul_index)\n",
        "                        \n",
        "                        r1  = formula[index_1-1:index_1+2]\n",
        "                        result1 = eval(r1)\n",
        "                        r2  = formula[index_2-1:index_2+2]\n",
        "                        result2 = eval(r2)\n",
        "                        \n",
        "                        #Si la prima operación que tenemos es una multiplicación o una división \n",
        "                        if (min(find_div_index, find_mul_index)) == 1:\n",
        "                            #Si la siguiente operación es la divisón o multiplicación,\n",
        "                            #deberá estar separada por un + o -\n",
        "                            if (max(find_div_index, find_mul_index)) == 5:\n",
        "                                #Eliminamos de la lista original los 4 dígitos utilizados hasta el momento\n",
        "                                unused_num = [n for n in numbers if n != formula[find_div_index-1]]\n",
        "                                unused_num = [n for n in unused_num if n != formula[find_div_index+1]]\n",
        "                                unused_num = [n for n in unused_num if n != formula[find_mul_index-1]]\n",
        "                                unused_num = [n for n in unused_num if n != formula[find_mul_index+1]]\n",
        "                                \n",
        "                                for val in unused_num:\n",
        "                                    if -int(val) == target - result1 - result2:\n",
        "                                        return(r1+\"+\"+r2+\"-\"+str(val))\n",
        "                                        found = True\n",
        "                                        break\n",
        "                                    elif int(val) == target - result1 + result2:\n",
        "                                        return (r1+\"-\"+r2+\"+\"+str(val))\n",
        "                                        found = True\n",
        "                                        break\n",
        "                            else:\n",
        "                                #Si la siguienteoperación es la suma o resta\n",
        "                                #Eliminamos de la lista original los 4 dígitos utilizados hasta el momento\n",
        "                                unused_num = [n for n in numbers if n != formula[find_div_index-1]]\n",
        "                                unused_num = [n for n in unused_num if n != formula[find_div_index+1]]\n",
        "                                unused_num = [n for n in unused_num if n != formula[find_mul_index-1]]\n",
        "                                unused_num = [n for n in unused_num if n != formula[find_mul_index+1]]\n",
        "                                \n",
        "                                for val in unused_num:\n",
        "                                    if int(val) == target - result1 + result2:\n",
        "                                        return(\"\".join(r1+\"+\"+str(val)+\"-\"+r2))\n",
        "                                        found = True\n",
        "                                        break\n",
        "                                    elif -int(val) == target - result1 - result2:\n",
        "                                        return(\"\".join(r1+\"-\"+str(val)+\"+\"+r2))\n",
        "                                        found = True\n",
        "                                        break\n",
        "                        #Finalmente, si no empieza con una multplicación\n",
        "                        else:\n",
        "                            #Si la siguiente operación es la suma o resta\n",
        "                            #Eliminamos de la lista original los 4 dígitos utilizados hasta el momento\n",
        "                            unused_num = [n for n in numbers if n != formula[find_div_index-1]]\n",
        "                            unused_num = [n for n in unused_num if n != formula[find_div_index+1]]\n",
        "                            unused_num = [n for n in unused_num if n != formula[find_mul_index-1]]\n",
        "                            unused_num = [n for n in unused_num if n != formula[find_mul_index+1]]\n",
        "                            \n",
        "                            for val in unused_num:\n",
        "                                if int(val) == target - result1 + result2:\n",
        "                                    return(\"\".join(str(val)+\"+\"+r1+\"-\"+r2))\n",
        "                                    found = True\n",
        "                                    break\n",
        "                                elif -int(val) == target + result1 - result2:\n",
        "                                    return(\"\".join(str(val)+\"-\"+r1+\"+\"+r2))\n",
        "                                    found = True\n",
        "                                    break\n",
        "                else:\n",
        "                    found = True\n",
        "                    break\n",
        "        else:\n",
        "            found = True  "
      ],
      "execution_count": 2,
      "outputs": []
    },
    {
      "cell_type": "code",
      "metadata": {
        "colab": {
          "base_uri": "https://localhost:8080/"
        },
        "id": "Srk_bbqYhgxw",
        "outputId": "7047f2b2-6dde-488c-84a2-4da86ed8da8b"
      },
      "source": [
        "from itertools import permutations\n",
        "import random\n",
        "import time\n",
        "\n",
        "#Calculamos el tiempo de ejecución del algoritmo\n",
        "start_time = time.time()\n",
        "\n",
        "#Ingresamos el valor objetivo\n",
        "#target = int(input(\"Ingrese valor a encontrar expresión aritmética: \"))\n",
        "target = 7\n",
        "\n",
        "#Por fuerza bruta, pudimos encontrar que el mínimo valor entero que se puede crear es el 69\n",
        "#mientras que el máximo valor que se puede encontrar por fuerza bruta es el 77.\n",
        "if (target>=-69) and (target<=77):\n",
        "    expresion = problema3(target)\n",
        "    print(\"La expresión arimética es: {}\".format(expresion))         \n",
        "    print(\"--- %s seconds ---\" % (time.time() - start_time))\n",
        "else:\n",
        "    print(\"El valor ingresado no puede se encontrado en expresión aritmética. Debe estar en el rango de [-69, 77] (solo enteros)\")"
      ],
      "execution_count": 3,
      "outputs": [
        {
          "output_type": "stream",
          "text": [
            "La expresión arimética es: 8/4-1*2+7\n",
            "--- 0.03131604194641113 seconds ---\n"
          ],
          "name": "stdout"
        }
      ]
    },
    {
      "cell_type": "markdown",
      "metadata": {
        "id": "eGDB4K6uk1iN"
      },
      "source": [
        "# __(*)Calcula la complejidad del algoritmo__"
      ]
    },
    {
      "cell_type": "markdown",
      "metadata": {
        "id": "NhpTh_BPk1ms"
      },
      "source": [
        "**Respuesta:** Este algoritmo es de complejidad O(2^n)"
      ]
    },
    {
      "cell_type": "markdown",
      "metadata": {
        "id": "3M6QjTsSkmYe"
      },
      "source": [
        "# __Según el problema (y tenga sentido), diseña un juego de datos de entrada aleatorios__"
      ]
    },
    {
      "cell_type": "markdown",
      "metadata": {
        "id": "Jc3_OlyNkvjZ"
      },
      "source": [
        "**Respuesta:**"
      ]
    },
    {
      "cell_type": "code",
      "metadata": {
        "id": "sJ-N2etjkyWc"
      },
      "source": [
        "random_list = []\n",
        "cantidad = 5\n",
        "minimo = -10\n",
        "maximo = 10\n",
        "\n",
        "for i in range(0,cantidad):\n",
        "  n = random.randint(minimo,maximo)\n",
        "  random_list.append(n)"
      ],
      "execution_count": 9,
      "outputs": []
    },
    {
      "cell_type": "markdown",
      "metadata": {
        "id": "zy5ZROmjlGo1"
      },
      "source": [
        "# __Aplica el algoritmo al juego de datos generado__"
      ]
    },
    {
      "cell_type": "markdown",
      "metadata": {
        "id": "_Cmj-PVylMsa"
      },
      "source": [
        "**Respuesta:**"
      ]
    },
    {
      "cell_type": "code",
      "metadata": {
        "colab": {
          "base_uri": "https://localhost:8080/"
        },
        "id": "Xh_DZjUuiGbx",
        "outputId": "704e283c-71e5-4e59-bfe8-0f3003175171"
      },
      "source": [
        "from itertools import permutations\n",
        "import random\n",
        "import time\n",
        "\n",
        "#Calculamos el tiempo de ejecución del algoritmo\n",
        "start_time = time.time()\n",
        "\n",
        "for i in random_list:\n",
        "  #Ingresamos el valor objetivo\n",
        "  expresion = problema3 (i)\n",
        "  print(\"El valor aleatorio a buscar la expresión aritmética es: {}\".format(i))\n",
        "  print(\"La expresión arimética es: {}\".format(expresion))\n",
        "  print(\"--- %s seconds ---\" % (time.time() - start_time))"
      ],
      "execution_count": 11,
      "outputs": [
        {
          "output_type": "stream",
          "text": [
            "El valor aleatorio a buscar la expresión aritmética es: -1\n",
            "La expresión arimética es: 6*1+8/4-9\n",
            "--- 0.06167101860046387 seconds ---\n",
            "El valor aleatorio a buscar la expresión aritmética es: -1\n",
            "La expresión arimética es: 8/2-9*1+4\n",
            "--- 0.09916973114013672 seconds ---\n",
            "El valor aleatorio a buscar la expresión aritmética es: 4\n",
            "La expresión arimética es: 3*8/4+5-7\n",
            "--- 0.14244413375854492 seconds ---\n",
            "El valor aleatorio a buscar la expresión aritmética es: -5\n",
            "La expresión arimética es: 4/8*6+1-9\n",
            "--- 0.2794477939605713 seconds ---\n",
            "El valor aleatorio a buscar la expresión aritmética es: -1\n",
            "La expresión arimética es: 3/2*4+1-8\n",
            "--- 0.2866511344909668 seconds ---\n"
          ],
          "name": "stdout"
        }
      ]
    },
    {
      "cell_type": "markdown",
      "metadata": {
        "id": "eTFWUJQrtGcv"
      },
      "source": [
        "# __Enumera las referencias que has utilizado (si ha sido necesario) para llevar a cabo el trabajo__"
      ]
    },
    {
      "cell_type": "markdown",
      "metadata": {
        "id": "YKQ_mRBttWsP"
      },
      "source": [
        "**Respuesta:**\n",
        "1. Reyero Díez, R., 2021. Algoritmos de Optimización. Valencia - España: Universidad Internacional de Valencia, pp.46-47.\n",
        "2. \"Ramificación y Poda\", Lcc.uma.es, 2021. [Online]. Available: http://www.lcc.uma.es/~av/Libro/CAP7.pdf."
      ]
    },
    {
      "cell_type": "markdown",
      "metadata": {
        "id": "kAkDPUyRtYyH"
      },
      "source": [
        "# __Describe brevemente las lineas de cómo crees que es posible avanzar en el estudio del problema. Ten en cuenta incluso posibles variaciones del problema y/o variaciones al alza del tamaño__"
      ]
    },
    {
      "cell_type": "markdown",
      "metadata": {
        "id": "IE0uZmo-tZu-"
      },
      "source": [
        "**Respuesta:** \n",
        "1. En el algoritmo de ramificación y poda utilizado, se inicializa con una propuesta aleatoria de combinación de los operadores aritméticos, y en base a esa propuesta se comienza a construir (llenar) los espacios con valores de números no repetidos. Se podría optimizar esta búsqueda de números teniendo por medio de factores (divisores del número) y construir sobre ellos.\n",
        "2.  Permitir la variación de utilizar el 0, para poder ayudar a la combinación de números, siempre y cuando no se realicen divisiones para 0.\n",
        "3. Los límites del enunciado son desde -69 hasta 77, se podrían crear números fuera de estos líminte si el conjunto de números a utilizarse permitiese valores enteros mayores a 9, ej. 10, 11, 12, etc.\n",
        "4.  Posiblemente la introducción de otros operadores aritmético como potencia (elevado, exponente) o  raíces cuadradas puedan generar versiones del problema más complejas e interesante, y permitan poder encontrar expresiones aritméticas de números continuos (con decimales)\n"
      ]
    }
  ]
}