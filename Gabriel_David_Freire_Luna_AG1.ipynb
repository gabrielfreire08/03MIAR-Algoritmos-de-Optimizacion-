{
  "nbformat": 4,
  "nbformat_minor": 0,
  "metadata": {
    "colab": {
      "name": "Gabriel David Freire Luna - AG1.ipynb",
      "provenance": [],
      "collapsed_sections": [],
      "include_colab_link": true
    },
    "kernelspec": {
      "name": "python3",
      "display_name": "Python 3"
    },
    "language_info": {
      "name": "python"
    }
  },
  "cells": [
    {
      "cell_type": "markdown",
      "metadata": {
        "id": "view-in-github",
        "colab_type": "text"
      },
      "source": [
        "<a href=\"https://colab.research.google.com/github/gabrielfreire08/03MIAR-Algoritmos-de-Optimizacion-/blob/main/Gabriel_David_Freire_Luna_AG1.ipynb\" target=\"_parent\"><img src=\"https://colab.research.google.com/assets/colab-badge.svg\" alt=\"Open In Colab\"/></a>"
      ]
    },
    {
      "cell_type": "markdown",
      "metadata": {
        "id": "GG2D6vLdYwwy"
      },
      "source": [
        "***Actividad Guiada 1 de Algoritmos de Optimizacion***\n",
        "\n",
        "**Nombre:** Gabriel David Freire Luna\n",
        "\n",
        "https://colab.research.google.com/drive/1O8yi9rnw5mY7zAxdl5QbwxMnGtzDvgkG?usp=sharing\n",
        "\n",
        "https://github.com/mi_usuario/03MAIR---Algoritmos-de-Optimizacion"
      ]
    },
    {
      "cell_type": "code",
      "metadata": {
        "id": "rTiqLuX2ZKuL",
        "colab": {
          "base_uri": "https://localhost:8080/"
        },
        "outputId": "6a4ae892-fa11-41c8-d631-42fa5cf231a6"
      },
      "source": [
        "#Torres de Hanoi - Divide y venceras\n",
        "################################################################################\n",
        "\n",
        "\n",
        "################################################################\n",
        "def Torres_Hanoi(N, desde, hasta):\n",
        "# N:  No de fichas\n",
        "# desde\n",
        "# hasta\n",
        "  if N == 1:\n",
        "    print (\"Mueve desde {} hasta {} \".format(desde, hasta))\n",
        "  else:\n",
        "    Torres_Hanoi(N-1, desde, 6-desde-hasta)\n",
        "    print (\"Mueve desde {} hasta {} \".format(desde, hasta))\n",
        "    Torres_Hanoi(N-1, 6-desde-hasta, hasta)\n",
        "    #Desde:1\n",
        "    #Hasta: 3\n",
        "    #Pivote = 6-1-3 = 2 Torre 2 de pivote, por eso se usa el 6\n",
        "\n",
        "\n",
        "Torres_Hanoi(3, 1, 3)\n",
        "################################################################"
      ],
      "execution_count": 4,
      "outputs": [
        {
          "output_type": "stream",
          "text": [
            "Mueve desde 1 hasta 3 \n",
            "Mueve desde 1 hasta 2 \n",
            "Mueve desde 3 hasta 2 \n",
            "Mueve desde 1 hasta 3 \n",
            "Mueve desde 2 hasta 1 \n",
            "Mueve desde 2 hasta 3 \n",
            "Mueve desde 1 hasta 3 \n"
          ],
          "name": "stdout"
        }
      ]
    },
    {
      "cell_type": "code",
      "metadata": {
        "id": "UTL6wiczQVDA"
      },
      "source": [
        ""
      ],
      "execution_count": null,
      "outputs": []
    },
    {
      "cell_type": "code",
      "metadata": {
        "id": "YwBudj2hYoMR",
        "colab": {
          "base_uri": "https://localhost:8080/"
        },
        "outputId": "b37f8be0-a9da-476f-bece-bd2513df5f8b"
      },
      "source": [
        "#Cambio de monedas - Técnica voraz\n",
        "def cambio_monedas(cantidad,sistema):\n",
        "  #Introducimos una variable de control del cambio que se ha entregado hasta el \n",
        "  #momento\n",
        "  valor_acumulado = 0\n",
        "\n",
        "  #Cramos un lista de 0 para los valores de cantiadad de monedad de cada denominación\n",
        "  solucion = [0 for i in range(len(sistema))]\n",
        "\n",
        "  for i in range (len (sistema)):\n",
        "\n",
        "    #Calculamos la cantidad de monedad que vamos a necesitar de cada denominación\n",
        "    #y la guardamos en la variable solución\n",
        "    monedas = (cantidad - valor_acumulado) // sistema[i]\n",
        "    solucion[i] = monedas\n",
        "\n",
        "    #Debemos de ir contabilizando el cambio que ya hemos dados hasta el momento\n",
        "    valor_acumulado = valor_acumulado +  sistema[i] * monedas\n",
        "\n",
        "    #Si nuestro sistema de monedas encuentra una solución \n",
        "    if valor_acumulado == cantidad:\n",
        "      return solucion\n",
        "  #En caso de que luego de haber iterado por todo nuestro sistema de monedas,\n",
        "  #es necesario saber si\n",
        "  if valor_acumulado != cantidad:\n",
        "    print(\"Con el sistema de monedas actual no habrá una solución exacta\")\n",
        "    print(\"El valor del cambio que se entregará será de {} y no de {}\".format(valor_acumulado, cantidad))\n",
        "  return solucion\n",
        "\n",
        "print(\"Primer Ejemplo:\")\n",
        "cambio = 27\n",
        "sistema = sorted([25, 10, 5, 1],  reverse = True)\n",
        "solucion = cambio_monedas(cambio,sistema)\n",
        "print(\"Voy a necesitar:\")\n",
        "for i,v in enumerate(sistema):\n",
        "  print(\"{} monedas de {}\".format(solucion[i], sistema[i]))\n",
        "\n",
        "print(\"################################################################\")\n",
        "\n",
        "print(\"Segundo Ejemplo:\")\n",
        "cambio = 45\n",
        "sistema = sorted([29, 11, 7, 2],  reverse = True)\n",
        "solucion = cambio_monedas(cambio,sistema)\n",
        "print(\"Voy a necesitar:\")\n",
        "for i,v in enumerate(sistema):\n",
        "  print(\"{} monedas de {}\".format(solucion[i], sistema[i]))"
      ],
      "execution_count": 23,
      "outputs": [
        {
          "output_type": "stream",
          "text": [
            "Primer Ejemplo:\n",
            "Voy a necesitar:\n",
            "1 monedas de 25\n",
            "0 monedas de 10\n",
            "0 monedas de 5\n",
            "2 monedas de 1\n",
            "################################################################\n",
            "Segundo Ejemplo:\n",
            "Con el sistema de monedas actual no habrá una solución exacta\n",
            "El valor del cambio que se entregará será de 44 y no de 45\n",
            "Voy a necesitar:\n",
            "1 monedas de 29\n",
            "1 monedas de 11\n",
            "0 monedas de 7\n",
            "2 monedas de 2\n"
          ],
          "name": "stdout"
        }
      ]
    },
    {
      "cell_type": "code",
      "metadata": {
        "id": "9toJ4WjhQUNj"
      },
      "source": [
        ""
      ],
      "execution_count": null,
      "outputs": []
    },
    {
      "cell_type": "code",
      "metadata": {
        "id": "H4Iwt2XRZTFr",
        "colab": {
          "base_uri": "https://localhost:8080/"
        },
        "outputId": "00ff738b-43ab-4eb3-8ae6-f2ca32494fec"
      },
      "source": [
        "#N Reinas - Vuelta Atrás()\n",
        "################################################################################\n",
        "\n",
        "#Verifica que en la solución parcial no hay amenzas entre reinas\n",
        "################################################################\n",
        "def es_prometedora(SOLUCION,etapa):\n",
        "################################################################\n",
        "  #print(SOLUCION)\n",
        "  #Si la solución tiene dos valores iguales no es valida => Dos reinas en la misma fila\n",
        "  for i in range(etapa+1):\n",
        "    #print(\"El valor \" + str(SOLUCION[i]) + \" está \" +  str(SOLUCION.count(SOLUCION[i])) + \" veces\")\n",
        "    if SOLUCION.count(SOLUCION[i]) > 1:       \n",
        "      return False\n",
        "  \n",
        "    #Verifica las diagonales\n",
        "    for j in range(i+1, etapa +1 ):\n",
        "      #print(\"Comprobando diagonal de \" + str(i) + \" y \" + str(j))\n",
        "      if abs(i-j) == abs(SOLUCION[i]-SOLUCION[j]) : return False\n",
        "  return True\n",
        "\n",
        "#Traduce la solución al tablero\n",
        "################################################################\n",
        "def escribe_solucion(S):\n",
        "################################################################\n",
        "  n = len(S)\n",
        "  for x in range(n):\n",
        "    print(\"\")\n",
        "    for i in range(n):\n",
        "      if S[i] == x+1:\n",
        "        print(\" X \" , end=\"\")\n",
        "      else:\n",
        "        print(\" - \", end=\"\")\n",
        "\n",
        "\n",
        "\n",
        "#Proceso principal de N-Reinas\n",
        "################################################################\n",
        "def reinas(N,solucion=[],etapa=0): \n",
        "################################################################\n",
        "  if len(solucion) == 0:\n",
        "    solucion = [0 for i in range(N)]\n",
        "\n",
        "  for i in range(1, N+1):\n",
        "    solucion[etapa] = i\n",
        "\n",
        "    if es_prometedora(solucion, etapa):\n",
        "      if etapa == N-1:\n",
        "        print(\"\\nLa solución es: \", solucion)\n",
        "        escribe_solucion(solucion)\n",
        "        print(\"\\n\\n\")\n",
        "      else:\n",
        "        reinas(N, solucion, etapa+1)\n",
        "    else:\n",
        "      None\n",
        "\n",
        "    solucion[etapa] = 0\n",
        "\n",
        "reinas(4,solucion=[],etapa=0)"
      ],
      "execution_count": 29,
      "outputs": [
        {
          "output_type": "stream",
          "text": [
            "\n",
            "La solución es:  [2, 4, 1, 3]\n",
            "\n",
            " -  -  X  - \n",
            " X  -  -  - \n",
            " -  -  -  X \n",
            " -  X  -  - \n",
            "\n",
            "\n",
            "\n",
            "La solución es:  [3, 1, 4, 2]\n",
            "\n",
            " -  X  -  - \n",
            " -  -  -  X \n",
            " X  -  -  - \n",
            " -  -  X  - \n",
            "\n",
            "\n"
          ],
          "name": "stdout"
        }
      ]
    },
    {
      "cell_type": "code",
      "metadata": {
        "id": "eTZclKH9QV0R"
      },
      "source": [
        ""
      ],
      "execution_count": null,
      "outputs": []
    },
    {
      "cell_type": "code",
      "metadata": {
        "id": "iPcgVSMabXrU"
      },
      "source": [
        "#Viaje por el rio - Programación dinámica\n",
        "################################################################################\n",
        "\n",
        "TARIFAS = [\n",
        "[0,5,4,3,999,999,999],\n",
        "[999,0,999,2,3,999,11],\n",
        "[999,999, 0,1,999,4,10],\n",
        "[999,999,999, 0,5,6,9],\n",
        "[999,999, 999,999,0,999,4],\n",
        "[999,999, 999,999,999,0,3],\n",
        "[999,999,999,999,999,999,0]\n",
        "]\n",
        "\n",
        "#999 se puede sustituir por float(\"inf\")\n",
        "\n",
        "\n",
        "#Calculo de la matriz de PRECIOS y RUTAS\n",
        "################################################################  \n",
        "def Precios(TARIFAS):\n",
        "################################################################ \n",
        "#....\n",
        "\n",
        "\n",
        "PRECIOS,RUTA = Precios(TARIFAS)  \n",
        "#print(PRECIOS[0][6])\n",
        "\n",
        "print(\"PRECIOS\")\n",
        "for i in range(len(TARIFAS)):\n",
        "  print(PRECIOS[i])\n",
        "\n",
        "print(\"\\nRUTA\")  \n",
        "for i in range(len(TARIFAS)):\n",
        "  print(RUTA[i])  \n",
        "  \n",
        "#Determinar la ruta con Recursividad\n",
        "################################################################\n",
        "def calcular_ruta(RUTA, desde, hasta):\n",
        "################################################################\n",
        "  if desde == hasta:\n",
        "    #print(\"Ir a :\" + str(desde))\n",
        "    return \"\" \n",
        "  else:\n",
        "    return str(calcular_ruta( RUTA, desde, RUTA[desde][hasta])) +  \\\n",
        "                ',' + \\\n",
        "                str(RUTA[desde][hasta] \\\n",
        "              ) \n",
        "\n",
        "print(\"\\nLa ruta es:\")  \n",
        "calcular_ruta(RUTA, 0,6) "
      ],
      "execution_count": null,
      "outputs": []
    }
  ]
}